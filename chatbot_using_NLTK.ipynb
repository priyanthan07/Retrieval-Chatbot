{
  "nbformat": 4,
  "nbformat_minor": 0,
  "metadata": {
    "colab": {
      "provenance": []
    },
    "kernelspec": {
      "name": "python3",
      "display_name": "Python 3"
    },
    "language_info": {
      "name": "python"
    }
  },
  "cells": [
    {
      "cell_type": "code",
      "execution_count": 8,
      "metadata": {
        "id": "3YoS1sZjTFQ5"
      },
      "outputs": [],
      "source": [
        "#Natural language tool kit"
      ]
    },
    {
      "cell_type": "code",
      "source": [
        "# Steps involved in building chatbot using Python and NLTK\n",
        "\n",
        "# reading text corpus\n",
        "# Preprocessing (stop words removal, lower case conversion etc)\n",
        "# Tokenization, stemming & lemmatization\n",
        "          # Tokenization - connvert a sentence in to indivisual words\n",
        "          # stemming     - (leafs - leaf) & (leaves - leav)\n",
        "          # lemmatization- (leafs and leaves   - leaf)\n",
        "# bag of words\n",
        "# One hot encoding"
      ],
      "metadata": {
        "id": "VDv2U_ywXJe5"
      },
      "execution_count": 9,
      "outputs": []
    },
    {
      "cell_type": "code",
      "source": [
        "import numpy as np\n",
        "import nltk\n",
        "import string\n",
        "import random"
      ],
      "metadata": {
        "id": "FUaKEcegYRqX"
      },
      "execution_count": 10,
      "outputs": []
    },
    {
      "cell_type": "code",
      "source": [
        "file = open('data.txt','r',errors = 'ignore')\n",
        "raw_doc = file.read()"
      ],
      "metadata": {
        "id": "XhRcIpK_aCB-"
      },
      "execution_count": 11,
      "outputs": []
    },
    {
      "cell_type": "code",
      "source": [
        "raw_doc"
      ],
      "metadata": {
        "colab": {
          "base_uri": "https://localhost:8080/",
          "height": 227
        },
        "id": "afuWpTCeGym7",
        "outputId": "d8feddad-5de5-4d8b-d944-ab0bc6088f5b"
      },
      "execution_count": 12,
      "outputs": [
        {
          "output_type": "execute_result",
          "data": {
            "text/plain": [
              "'\\nMain menu\\n\\nWikipediaThe Free Encyclopedia\\nSearch Wikipedia\\nSearch\\nCreate account\\nLog in\\n\\nPersonal tools\\nContents hide\\n(Top)\\nBackground\\nDevelopment\\nApplication\\nToggle Application subsection\\nMessaging apps\\nAs part of company apps and websites\\nChatbot sequences\\nCompany internal platforms\\nCustomer service\\nHealthcare\\nPolitics\\nToys\\nMalicious use\\nLimitations of chatbots\\nChatbots and jobs\\nSee also\\nReferences\\nFurther reading\\nExternal links\\nChatbot\\n\\nArticle\\nTalk\\nRead\\nView source\\nView history\\n\\nTools\\nPage semi-protected\\nFrom Wikipedia, the free encyclopedia\\nFor other uses, see Chatbot (disambiguation).\\n\\nParts of this article (those related to everything, particularly sections after the intro) need to be updated. The reason given is: this article is using citations from 1970 and virtually all claims about conversational capabilities are at least ten years out of date (for example the Turing test was arguably made obsolete years ago by transformer models). Please help update this article to reflect recent events or newly available information. (February 2023)\\n\\nA virtual assistant chatbot\\n\\nThe 1966 ELIZA chatbot\\nPart of a series on\\nMachine learning\\nand data mining\\nScatterplot featuring a linear support vector machine\\'s decision boundary (dashed line)\\nParadigms\\nProblems\\nSupervised learning\\n(classification • regression)\\nClustering\\nDimensionality reduction\\nStructured prediction\\nAnomaly detection\\nArtificial neural network\\nAutoencoderCognitive computingDeep learningDeepDreamMultilayer perceptronRNN LSTMGRUESNreservoir computingRestricted Boltzmann machineGANDiffusion modelSOMConvolutional neural network U-NetTransformer VisionSpiking neural networkMemtransistorElectrochemical RAM (ECRAM)\\nReinforcement learning\\nLearning with humans\\nModel diagnostics\\nMathematical foundations\\nMachine-learning venues\\nRelated articles\\nvte\\nA chatbot (originally chatterbot[1]) is a software application that aims to mimic human conversation through text or voice interactions, typically online.[2][3] Modern chatbots are artificial intelligence (AI) systems that are capable of maintaining a conversation with a user in natural language and simulating the way a human would behave as a conversational partner. Such technologies often utilize aspects of deep learning and natural language processing.\\n\\nRecently this field has gained widespread attention due to the popularity of OpenAI\\'s ChatGPT,[4] followed by alternatives such as Microsoft\\'s Bing Chat (which uses OpenAI\\'s GPT-4) and Google\\'s Bard.[5] Such examples reflect the recent practice of such products being built based upon broad foundational large language models that get fine-tuned so as to target specific tasks or applications (i.e. simulating human conversation, in the case of chatbots). Chatbots can also be designed or customized to further target even more specific situations and/or particular subject-matter domains.[6]\\n\\nA major area where chatbots have long been used is in customer service and support, such as with various sorts of virtual assistants.[7] Recently, companies spanning various industries have begun using the latest generative artificial intelligence technologies to power more advanced developments in such areas.[6]\\n\\nBackground\\nIn 1950, Alan Turing\\'s famous article \"Computing Machinery and Intelligence\" was published,[8] which proposed what is now called the Turing test as a criterion of intelligence. This criterion depends on the ability of a computer program to impersonate a human in a real-time written conversation with a human judge to the extent that the judge is unable to distinguish reliably—on the basis of the conversational content alone—between the program and a real human. The notoriety of Turing\\'s proposed test stimulated great interest in Joseph Weizenbaum\\'s program ELIZA, published in 1966, which seemed to be able to fool users into believing that they were conversing with a real human. However Weizenbaum himself did not claim that ELIZA was genuinely intelligent, and the introduction to his paper presented it more as a debunking exercise:\\n\\nIn artificial intelligence, machines are made to behave in wondrous ways, often sufficient to dazzle even the most experienced observer. But once a particular program is unmasked, once its inner workings are explained, its magic crumbles away; it stands revealed as a mere collection of procedures. The observer says to himself \"I could have written that\". With that thought, he moves the program in question from the shelf marked \"intelligent\", to that reserved for curios. The object of this paper is to cause just such a re-evaluation of the program about to be \"explained\". Few programs ever needed it more.[9]\\n\\nELIZA\\'s key method of operation (copied by chatbot designers ever since) involves the recognition of clue words or phrases in the input, and the output of the corresponding pre-prepared or pre-programmed responses that can move the conversation forward in an apparently meaningful way (e.g. by responding to any input that contains the word \\'MOTHER\\' with \\'TELL ME MORE ABOUT YOUR FAMILY\\').[9] Thus an illusion of understanding is generated, even though the processing involved has been merely superficial. ELIZA showed that such an illusion is surprisingly easy to generate because human judges are so ready to give the benefit of the doubt when conversational responses are capable of being interpreted as \"intelligent\".\\n\\nInterface designers have come to appreciate that humans\\' readiness to interpret computer output as genuinely conversational—even when it is actually based on rather simple pattern-matching—can be exploited for useful purposes. Most people prefer to engage with programs that are human-like, and this gives chatbot-style techniques a potentially useful role in interactive systems that need to elicit information from users, as long as that information is relatively straightforward and falls into predictable categories. Thus, for example, online help systems can usefully employ chatbot techniques to identify the area of help that users require, potentially providing a \"friendlier\" interface than a more formal search or menu system. This sort of usage holds the prospect of moving chatbot technology from Weizenbaum\\'s \"shelf ... reserved for curios\" to that marked \"genuinely useful computational methods\".\\n\\nDevelopment\\nAmong the most notable early chatbots are ELIZA (1966) and PARRY (1972).[10][11][12][13] More recent notable programs include A.L.I.C.E., Jabberwacky and D.U.D.E (Agence Nationale de la Recherche and CNRS 2006). While ELIZA and PARRY were used exclusively to simulate typed conversation, many chatbots now include other functional features, such as games and web searching abilities. In 1984, a book called The Policeman\\'s Beard is Half Constructed was published, allegedly written by the chatbot Racter (though the program as released would not have been capable of doing so).[14]\\n\\nFrom 1978[15] to some time after 1983,[16] the CYRUS project led by Janet Kolodner constructed a chatbot simulating Cyrus Vance (57th United States Secretary of State). It used case-based reasoning, and updated its database daily by parsing wire news from United Press International. The program was unable to process the news items subsequent to the surprise resignation of Cyrus Vance in April 1980, and the team constructed another chatbot simulating his sucessor, Edmund Muskie.[17][16]\\n\\nOne pertinent field of AI research is natural-language processing. Usually, weak AI fields employ specialized software or programming languages created specifically for the narrow function required. For example, A.L.I.C.E. uses a markup language called AIML,[3] which is specific to its function as a conversational agent, and has since been adopted by various other developers of, so-called, Alicebots. Nevertheless, A.L.I.C.E. is still purely based on pattern matching techniques without any reasoning capabilities, the same technique ELIZA was using back in 1966. This is not strong AI, which would require sapience and logical reasoning abilities.\\n\\nJabberwacky learns new responses and context based on real-time user interactions, rather than being driven from a static database. Some more recent chatbots also combine real-time learning with evolutionary algorithms that optimize their ability to communicate based on each conversation held. Still, there is currently no general purpose conversational artificial intelligence, and some software developers focus on the practical aspect, information retrieval.\\n\\nChatbot competitions focus on the Turing test or more specific goals. Two such annual contests are the Loebner Prize and The Chatterbox Challenge (the latter has been offline since 2015, however, materials can still be found from web archives).[18]\\n\\nChatbots may use neural networks as a language model. For example, generative pre-trained transformers (GPT), which use the transformer architecture, have become common to build sophisticated chatbots. The \"pre-training\" in its name refers to the initial training process on a large text corpus, which provides a solid foundation for the model to perform well on downstream tasks with limited amounts of task-specific data. An example of a GPT chatbot is ChatGPT.[19] Despite criticism of its accuracy, ChatGPT has gained attention for its detailed responses and historical knowledge. Another example is BioGPT, developed by Microsoft, which focuses on answering biomedical questions.[20][21]\\n\\nDBpedia created a chatbot during the GSoC of 2017.[22][23][24] It can communicate through Facebook Messenger.\\n\\nApplication\\nSee also: Virtual assistant\\nMessaging apps\\nMany companies\\' chatbots run on messaging apps or simply via SMS. They are used for B2C customer service, sales and marketing.[25]\\n\\nIn 2016, Facebook Messenger allowed developers to place chatbots on their platform. There were 30,000 bots created for Messenger in the first six months, rising to 100,000 by September 2017.[26]\\n\\nSince September 2017, this has also been as part of a pilot program on WhatsApp. Airlines KLM and Aeroméxico both announced their participation in the testing;[27][28][29][30] both airlines had previously launched customer services on the Facebook Messenger platform.\\n\\nThe bots usually appear as one of the user\\'s contacts, but can sometimes act as participants in a group chat.\\n\\nMany banks, insurers, media companies, e-commerce companies, airlines, hotel chains, retailers, health care providers, government entities and restaurant chains have used chatbots to answer simple questions, increase customer engagement,[31] for promotion, and to offer additional ways to order from them.[32]\\n\\nA 2017 study showed 4% of companies used chatbots.[33] According to a 2016 study, 80% of businesses said they intended to have one by 2020.[34]\\n\\nAs part of company apps and websites\\nPrevious generations of chatbots were present on company websites, e.g. Ask Jenn from Alaska Airlines which debuted in 2008[35] or Expedia\\'s virtual customer service agent which launched in 2011.[35][36] The newer generation of chatbots includes IBM Watson-powered \"Rocky\", introduced in February 2017 by the New York City-based e-commerce company Rare Carat to provide information to prospective diamond buyers.[37][38]\\n\\nChatbot sequences\\nUsed by marketers to script sequences of messages, very similar to an autoresponder sequence. Such sequences can be triggered by user opt-in or the use of keywords within user interactions. After a trigger occurs a sequence of messages is delivered until the next anticipated user response. Each user response is used in the decision tree to help the chatbot navigate the response sequences to deliver the correct response message.\\n\\nCompany internal platforms\\nOther companies explore ways they can use chatbots internally, for example for Customer Support, Human Resources, or even in Internet-of-Things (IoT) projects. Overstock.com, for one, has reportedly launched a chatbot named Mila to automate certain simple yet time-consuming processes when requesting sick leave.[39] Other large companies such as Lloyds Banking Group, Royal Bank of Scotland, Renault and Citroën are now using automated online assistants instead of call centres with humans to provide a first point of contact. A SaaS chatbot business ecosystem has been steadily growing since the F8 Conference when Facebook\\'s Mark Zuckerberg unveiled that Messenger would allow chatbots into the app.[40] In large companies, like in hospitals and aviation organizations, IT architects are designing reference architectures for Intelligent Chatbots that are used to unlock and share knowledge and experience in the organization more efficiently, and reduce the errors in answers from expert service desks significantly.[41] These Intelligent Chatbots make use of all kinds of artificial intelligence like image moderation and natural-language understanding (NLU), natural-language generation (NLG), machine learning and deep learning.\\n\\nCustomer service\\nMany high-tech banking organizations are looking to integrate automated AI-based solutions such as chatbots into their customer service in order to provide faster and cheaper assistance to their clients who are becoming increasingly comfortable with technology. In particular, chatbots can efficiently conduct a dialogue, usually replacing other communication tools such as email, phone, or SMS. In banking, their major application is related to quick customer service answering common requests, as well as transactional support.\\n\\nSeveral studies report significant reduction in the cost of customer services, expected to lead to billions of dollars of economic savings in the next ten years.[42] In 2019, Gartner predicted that by 2021, 15% of all customer service interactions globally will be handled completely by AI.[43] A study by Juniper Research in 2019 estimates retail sales resulting from chatbot-based interactions will reach $112 billion by 2023.[44]\\n\\nSince 2016, when Facebook allowed businesses to deliver automated customer support, e-commerce guidance, content, and interactive experiences through chatbots, a large variety of chatbots were developed for the Facebook Messenger platform.[45]\\n\\nIn 2016, Russia-based Tochka Bank launched the world\\'s first Facebook bot for a range of financial services, including a possibility of making payments.[46]\\n\\nIn July 2016, Barclays Africa also launched a Facebook chatbot, making it the first bank to do so in Africa.[47]\\n\\nThe France\\'s third-largest bank by total assets[48] Société Générale launched their chatbot called SoBot in March 2018. While 80% of users of the SoBot expressed their satisfaction after having tested it, Société Générale deputy director Bertrand Cozzarolo stated that it will never replace the expertise provided by a human advisor. [49]\\n\\nThe advantages of using chatbots for customer interactions in banking include cost reduction, financial advice, and 24/7 support.[50][51]\\n\\nHealthcare\\nSee also: Artificial intelligence in healthcare\\nChatbots are also appearing in the healthcare industry.[52][53] A study suggested that physicians in the United States believed that chatbots would be most beneficial for scheduling doctor appointments, locating health clinics, or providing medication information.[54]\\n\\nWhatsapp has teamed up with the World Health Organisation (WHO) to make a chatbot service that answers users’ questions on COVID-19.[55]\\n\\nIn 2020, The Indian Government launched a chatbot called MyGov Corona Helpdesk,[56] that worked through Whatsapp and helped people access information about the Coronavirus (COVID-19) pandemic.[57][58]\\n\\nCertain patient groups are still reluctant to use chatbots. A mixed-methods study showed that people are still hesitant to use chatbots for their healthcare due to poor understanding of the technological complexity, the lack of empathy, and concerns about cyber-security.[59] The analysis showed that while 6% had heard of a health chatbot and 3% had experience of using it, 67% perceived themselves as likely to use one within 12 months. The majority of participants would use a health chatbot for seeking general health information (78%), booking a medical appointment (78%), and looking for local health services (80%). However, a health chatbot was perceived as less suitable for seeking results of medical tests and seeking specialist advice such as sexual health. The analysis of attitudinal variables showed that most participants reported their preference for discussing their health with doctors (73%) and having access to reliable and accurate health information (93%). While 80% were curious about new technologies that could improve their health, 66% reported only seeking a doctor when experiencing a health problem and 65% thought that a chatbot was a good idea. Interestingly, 30% reported dislike about talking to computers, 41% felt it would be strange to discuss health matters with a chatbot and about half were unsure if they could trust the advice given by a chatbot. Therefore, perceived trustworthiness, individual attitudes towards bots, and dislike for talking to computers are the main barriers to health chatbots.\\n\\nPolitics\\nSee also: Government by algorithm § AI politicians\\nIn New Zealand, the chatbot SAM – short for Semantic Analysis Machine[60] (made by Nick Gerritsen of Touchtech[61]) – has been developed. It is designed to share its political thoughts, for example on topics such as climate change, healthcare and education, etc. It talks to people through Facebook Messenger.[62][63][64][65]\\n\\nIn 2022, the chatbot \"Leader Lars\" or \"Leder Lars\" was nominated for The Synthetic Party to run in the Danish parliamentary election,[66] and was built by the artist collective Computer Lars.[67] Leader Lars differed from earlier virtual politicians by leading a political party and by not pretending to be an objective candidate.[68] This chatbot engaged in critical discussions on politics with users from around the world.[69]\\n\\nIn India, the state government has launched a chatbot for its Aaple Sarkar platform,[70] which provides conversational access to information regarding public services managed.[71][72]\\n\\nToys\\nChatbots have also been incorporated into devices not primarily meant for computing, such as toys.[73]\\n\\nHello Barbie is an Internet-connected version of the doll that uses a chatbot provided by the company ToyTalk,[74] which previously used the chatbot for a range of smartphone-based characters for children.[75] These characters\\' behaviors are constrained by a set of rules that in effect emulate a particular character and produce a storyline.[76]\\n\\nThe My Friend Cayla doll was marketed as a line of 18-inch (46 cm) dolls which uses speech recognition technology in conjunction with an Android or iOS mobile app to recognize the child\\'s speech and have a conversation. It, like the Hello Barbie doll, attracted controversy due to vulnerabilities with the doll\\'s Bluetooth stack and its use of data collected from the child\\'s speech.\\n\\nIBM\\'s Watson computer has been used as the basis for chatbot-based educational toys for companies such as CogniToys[73] intended to interact with children for educational purposes.[77]\\n\\nMalicious use\\nMalicious chatbots are frequently used to fill chat rooms with spam and advertisements, by mimicking human behavior and conversations or to entice people into revealing personal information, such as bank account numbers. They were commonly found on Yahoo! Messenger, Windows Live Messenger, AOL Instant Messenger and other instant messaging protocols. There has also been a published report of a chatbot used in a fake personal ad on a dating service\\'s website.[78]\\n\\nTay, an AI chatbot that learns from previous interaction, caused major controversy due to it being targeted by internet trolls on Twitter. The bot was exploited, and after 16 hours began to send extremely offensive Tweets to users. This suggests that although the bot learned effectively from experience, adequate protection was not put in place to prevent misuse.[79]\\n\\nIf a text-sending algorithm can pass itself off as a human instead of a chatbot, its message would be more credible. Therefore, human-seeming chatbots with well-crafted online identities could start scattering fake news that seems plausible, for instance making false claims during an election. With enough chatbots, it might be even possible to achieve artificial social proof.[80][81]\\n\\nLimitations of chatbots\\nThe creation and implementation of chatbots is still a developing area, heavily related to artificial intelligence and machine learning, so the provided solutions, while possessing obvious advantages, have some important limitations in terms of functionalities and use cases. However, this is changing over time.\\n\\nThe most common limitations are listed below:[82]\\n\\nAs the input/output database is fixed and limited, chatbots can fail while dealing with an unsaved query.[51]\\nA chatbot\\'s efficiency highly depends on language processing and is limited because of irregularities, such as accents and mistakes.\\nChatbots are unable to deal with multiple questions at the same time and so conversation opportunities are limited.[82]\\nChatbots require a large amount of conversational data to train. Generative models, which are based on deep learning algorithms to generate new responses word by word based on user input, are usually trained on a large dataset of natural-language phrases.[3]\\nChatbots have difficulty managing non-linear conversations that must go back and forth on a topic with a user.[83]\\nAs it happens usually with technology-led changes in existing services, some consumers, more often than not from older generations, are uncomfortable with chatbots due to their limited understanding, making it obvious that their requests are being dealt with by machines.[82]\\nChatbots and jobs\\nChatbots are increasingly present in businesses and often are used to automate tasks that do not require skill-based talents. With customer service taking place via messaging apps as well as phone calls, there are growing numbers of use-cases where chatbot deployment gives organizations a clear return on investment. Call center workers may be particularly at risk from AI-driven chatbots.[84]\\n\\nChatbot jobs\\n\\nChatbot developers create, debug, and maintain applications that automate customer services or other communication processes. Their duties include reviewing and simplifying code when needed. They may also help companies implement bots in their operations.\\n\\nA study by Forrester (June 2017) predicted that 25% of all jobs would be impacted by AI technologies by 2019.[85]\\n\\nSee also\\nicon\\tLinguistics portal\\nApplications of artificial intelligence\\nAutonomous agent\\nChatGPT (from OpenAI)\\nConversational user interface\\nDead Internet theory\\nEugene Goostman\\nFriendly artificial intelligence\\nHybrid intelligent system\\nIntelligent agent\\nInternet bot\\nList of chatbots\\nMulti-agent system\\nNatural language processing\\nSocial bot\\nSoftware agent\\nSoftware bot\\nStochastic parrot\\nTwitterbot\\nReferences\\n Mauldin, Michael (1994), \"ChatterBots, TinyMuds, and the Turing Test: Entering the Loebner Prize Competition\", Proceedings of the Eleventh National Conference on Artificial Intelligence, AAAI Press, archived from the original on 13 December 2007, retrieved 5 March 2008\\n \"What is a chatbot?\". techtarget.com. Archived from the original on 2 November 2010. Retrieved 30 January 2017.\\n Caldarini, Guendalina; Jaf, Sardar; McGarry, Kenneth (2022). \"A Literature Survey of Recent Advances in Chatbots\". Information. MDPI. 13 (1): 41. doi:10.3390/info13010041.\\n Hu, Krystal (2 February 2023). \"ChatGPT sets record for fastest-growing user base - analyst note\". Reuters.\\n \"ChatGPT vs. Bing vs. Google Bard: Which AI is the Most Helpful?\".\\n \"GPT-4 takes the world by storm - List of companies that integrated the chatbot\". 21 March 2023.\\n \"2017 Messenger Bot Landscape, a Public Spreadsheet Gathering 1000+ Messenger Bots\". 3 May 2017. Archived from the original on 2 February 2019. Retrieved 1 February 2019.\\n Turing, Alan (1950), \"Computing Machinery and Intelligence\", Mind, 59 (236): 433–460, doi:10.1093/mind/lix.236.433\\n Weizenbaum, Joseph (January 1966), \"ELIZA – A Computer Program For the Study of Natural Language Communication Between Man And Machine\", Communications of the ACM, 9 (1): 36–45, doi:10.1145/365153.365168, S2CID 1896290\\n Güzeldere, Güven; Franchi, Stefano (24 July 1995), \"Constructions of the Mind\", Stanford Humanities Review, SEHR, Stanford University, 4 (2), archived from the original on 11 July 2007, retrieved 5 March 2008\\n Computer History Museum (2006), \"Internet History – 1970\\'s\", Exhibits, Computer History Museum, archived from the original on 21 February 2008, retrieved 5 March 2008\\n Sondheim, Alan J (1997), <nettime> Important Documents from the Early Internet (1972), nettime.org, archived from the original on 13 June 2008, retrieved 5 March 2008\\n Network Working Group (1973), \"RFC 439, PARRY Encounters the DOCTOR\", Internet Engineering Task Force, Internet Society, doi:10.17487/RFC0439, archived from the original on 20 February 2008, retrieved 5 March 2008 – Transcript of a session between Parry and Eliza. (This is not the dialogue from the ICCC, which took place 24–26 October 1972, whereas this session is from 18 September 1972.)\\n The Policeman\\'s Beard is Half Constructed Archived 4 February 2010 at the Wayback Machine. everything2.com. 13 November 1999\\n Kolodner, Janet L. Memory organization for natural language data-base inquiry. Advanced Research Projects Agency, 1978.\\n Kolodner, Janet L. (1 October 1983). \"Maintaining organization in a dynamic long-term memory\". Cognitive Science. 7 (4): 243–280. doi:10.1016/S0364-0213(83)80001-9. ISSN 0364-0213.\\n Dennett, Daniel C. (2004), Teuscher, Christof (ed.), \"Can Machines Think?\", Alan Turing: Life and Legacy of a Great Thinker, Berlin, Heidelberg: Springer, pp. 295–316, doi:10.1007/978-3-662-05642-4_12, ISBN 978-3-662-05642-4, retrieved 23 July 2023\\n \"Chatroboter simulieren Menschen\".[permanent dead link]\\n \"What is ChatGPT? - MagicBuddy\". MagicBuddy. 2023. Retrieved 1 August 2023.\\n Luo, Renqian; Sun, Liai; Xia, Yingce; Qin, Tao; Zhang, Sheng; Poon, Hoifung; Liu, Tie-Yan; et al. (2022). \"BioGPT: generative pre-trained transformer for biomedical text generation and mining\". Brief Bioinform. 23 (6). doi:10.1093/bib/bbac409. PMID 36156661.\\n Bastian, Matthias (29 January 2023). \"BioGPT is a Microsoft language model trained for biomedical tasks\". The Decoder. Archived from the original on 7 February 2023. Retrieved 7 February 2023.\\n \"DBpedia Chatbot\". chat.dbpedia.org. Archived from the original on 8 September 2019. Retrieved 9 September 2019.\\n \"Meet the DBpedia Chatbot | DBpedia\". wiki.dbpedia.org. 22 August 2018. Archived from the original on 2 September 2019. Retrieved 2 September 2019.\\n \"Meet the DBpedia Chatbot\". dbpedia.org. 22 August 2018. Archived from the original on 2 September 2019. Retrieved 2 September 2019.\\n Beaver, Laurie (July 2016). The Chatbots Explainer. BI Intelligence. Archived from the original on 3 May 2019. Retrieved 4 November 2019.\\n \"Facebook Messenger Hits 100,000 bots\". 18 April 2017. Archived from the original on 22 September 2017. Retrieved 22 September 2017.\\n \"KLM claims airline first with WhatsApp Business Platform\". www.phocuswire.com. Archived from the original on 5 February 2020. Retrieved 12 December 2021.\\n Forbes Staff (26 October 2017). \"Aeroméxico te atenderá por WhatsApp durante 2018\". Archived from the original on 2 July 2018. Retrieved 2 July 2018.\\n \"Podrás hacer \\'check in\\' y consultar tu vuelo con Aeroméxico a través de WhatsApp\". Huffington Post. 27 October 2017. Archived from the original on 10 March 2018. Retrieved 2 July 2018.\\n \"Building for People, and Now Businesses\". WhatsApp.com. Archived from the original on 9 February 2018. Retrieved 2 July 2018.\\n \"She is the company\\'s most effective employee\". Nordea News. September 2017. Archived from the original on 23 March 2023. Retrieved 23 March 2023.\\n \"Better believe the bot boom is blowing up big for B2B, B2C businesses\". VentureBeat. 24 July 2016. Archived from the original on 3 August 2017. Retrieved 30 August 2017.\\n Capan, Faruk (18 October 2017). \"The AI Revolution is Underway!\". www.PM360online.com. Archived from the original on 8 March 2018. Retrieved 7 March 2018.\\n \"80% of businesses want chatbots by 2020\". Business Insider. 15 December 2016. Archived from the original on 8 March 2018. Retrieved 7 March 2018.\\n \"A Virtual Travel Agent With All the Answers\". The New York Times. 4 March 2008. Archived from the original on 15 June 2017. Retrieved 3 August 2017.\\n \"Chatbot vendor directory released\". www.hypergridbusiness.com. October 2011. Archived from the original on 23 April 2017. Retrieved 23 April 2017.\\n \"Rare Carat\\'s Watson-powered chatbot will help you put a diamond ring on it\". TechCrunch. 15 February 2017. Archived from the original on 22 August 2017. Retrieved 22 August 2017.\\n \"10 ways you may have already used IBM Watson\". VentureBeat. 10 March 2017. Archived from the original on 22 August 2017. Retrieved 22 August 2017.\\n Greenfield, Rebecca (5 May 2016). \"Chatbots Are Your Newest, Dumbest Co-Workers\". Bloomberg.com. Archived from the original on 6 April 2017. Retrieved 6 March 2017.\\n \"Facebook opens its Messenger platform to chatbots\". Venturebeat. 12 April 2016. Archived from the original on 23 June 2017. Retrieved 22 June 2017.\\n \"Chatbot Reference Architecture\". 1 January 2019. Archived from the original on 15 January 2019. Retrieved 14 January 2019.\\n Hingrajia, Mirant. \"How Chatbots are Transforming Wall Street and Main Street Banks?\". Marutitech. Archived from the original on 1 April 2019. Retrieved 1 April 2019.\\n \"How to Manage Customer Service Technology Innovation\". www.gartner.com. Archived from the original on 11 December 2019. Retrieved 2 January 2020.\\n Smith, Sam (8 May 2019). \"Chatbot Interactions to Reach 22 Billion by 2023, as AS AI Offers Compelling New Engagement Solutions\". Juniper Research. Archived from the original on 2 January 2020. Retrieved 2 January 2020.\\n \"Facebook launches Messenger platform with chatbots\". Techcrunch. 12 April 2016. Archived from the original on 26 October 2019. Retrieved 1 April 2019.\\n \"Российский банк запустил чат-бота в Facebook\". Vedomosti.ru. 13 July 2016. Archived from the original on 1 April 2019. Retrieved 1 April 2019.\\n \"Absa launches \\'world-first\\' Facebook Messenger banking\". 19 July 2016. Archived from the original on 1 April 2019. Retrieved 1 April 2019.\\n \"The Biggest French Banks by Total Assets\". Banks around the World. Archived from the original on 9 July 2017. Retrieved 1 April 2019.\\n \"Gagner du Temps avec le Chatbot Bancaire pour Gagner en Intelligence avec les Conseillers\". Marketing Client. 19 June 2018. Archived from the original on 1 April 2019. Retrieved 1 April 2019.\\n Marous, Jim (14 March 2018). \"Meet 11 of the Most Interesting Chatbots in Banking\". The Financial Brand. Archived from the original on 1 April 2019. Retrieved 1 April 2019.\\n \"Chatbots: Boon or Bane?\". bluelupin. 9 January 2018. Archived from the original on 1 April 2019. Retrieved 1 April 2019.\\n Larson, Selena (11 October 2016). \"Baidu is bringing AI chatbots to healthcare\". CNN Money. Archived from the original on 3 January 2020. Retrieved 3 January 2020.\\n \"AI chatbots have a future in healthcare, with caveats\". AI in Healthcare. Archived from the original on 23 March 2023. Retrieved 17 September 2019.\\n Palanica, Adam; Flaschner, Peter; Thommandram, Anirudh; Li, Michael; Fossat, Yan (3 January 2019). \"Physicians\\' Perceptions of Chatbots in Health Care: Cross-Sectional Web-Based Survey\". Journal of Medical Internet Research. 21 (4): e12887. doi:10.2196/12887. PMC 6473203. PMID 30950796.\\n Ahaskar, Abhijit (27 March 2020). \"How WhatsApp chatbots are helping in the fight against Covid-19\". Mint. Archived from the original on 23 July 2020. Retrieved 23 July 2020.\\n \"India\\'s Coronavirus Chatbot on WhatsApp Crosses 1.7 Crore Users in 10 Days\". NDTV Gadgets 360. April 2020. Archived from the original on 21 June 2020. Retrieved 23 July 2020.\\n Kurup, Rajesh (21 March 2020). \"COVID-19: Govt of India launches a WhatsApp chatbot\". Business Line. Archived from the original on 23 July 2020. Retrieved 23 July 2020.\\n \"In focus: Mumbai-based Haptik which developed India\\'s official WhatsApp chatbot for Covid-19\". Hindustan Times. 7 April 2020. Archived from the original on 23 July 2020. Retrieved 23 July 2020.\\n Nadarzynski, Tom; Miles, Oliver; Cowie, Aimee; Ridge, Damien (1 January 2019). \"Acceptability of artificial intelligence (AI)-led chatbot services in healthcare: A mixed-methods study\". Digital Health. 5: 2055207619871808. doi:10.1177/2055207619871808. PMC 6704417. PMID 31467682.\\n \"Sam, the virtual politician\". Tuia Innovation. Archived from the original on 1 September 2019. Retrieved 9 September 2019.\\n Wellington, Victoria University of (15 December 2017). \"Meet the world\\'s first virtual politician\". Victoria University of Wellington. Archived from the original on 3 January 2020. Retrieved 3 January 2020.\\n Wagner, Meg (23 November 2017). \"This virtual politician wants to run for office\". CNN. Archived from the original on 1 September 2019. Retrieved 9 September 2019.\\n \"Talk with the first-ever robot politician on Facebook Messenger\". Engadget. 25 November 2017. Archived from the original on 4 August 2019. Retrieved 9 September 2019.\\n Prakash, Abishur (8 August 2018). \"AI-Politicians: A Revolution In Politics\". Medium. Archived from the original on 10 August 2019. Retrieved 1 September 2019.\\n \"SAM website\". Archived from the original on 11 May 2021. Retrieved 23 May 2021.\\n Sternberg, Sarah (20 June 2022). \"Danskere vil ind på den politiske scene med kunstig intelligens\" [Danes want to enter the political scene with artificial intelligence]. Jyllands-Posten. Archived from the original on 20 June 2022. Retrieved 20 June 2022.\\n Diwakar, Amar (22 August 2022). \"Can an AI-led Danish party usher in an age of algorithmic politics?\". TRT World. Archived from the original on 22 August 2022. Retrieved 22 August 2022.\\n Xiang, Chloe (13 October 2022). \"This Danish Political Party Is Led by an AI\". Vice: Motherboard. Archived from the original on 13 October 2022. Retrieved 13 October 2022.\\n Hearing, Alice (14 October 2022). \"A.I. chatbot is leading a Danish political party and setting its policies. Now users are grilling it for its stance on political landmines\". Fortune. Archived from the original on 22 December 2022. Retrieved 8 December 2022.\\n \"Maharashtra government launches Aaple Sarkar chatbot to provide info on 1,400 public services\". CNBC TV18. 5 March 2019. Archived from the original on 23 July 2020. Retrieved 23 July 2020.\\n \"Government of Maharashtra launches Aaple Sarkar chatbot with Haptik\". The Economic Times. Archived from the original on 16 December 2020. Retrieved 23 July 2020.\\n Aggarwal, Varun (5 March 2019). \"Maharashtra launches Aaple Sarkar chatbot\". Business Line. Archived from the original on 23 July 2020. Retrieved 23 July 2020.\\n Amy (23 February 2015). \"Conversational Toys – The Latest Trend in Speech Technology\". Virtual Agent Chat. Archived from the original on 21 February 2018. Retrieved 11 August 2016.\\n Nagy, Evie (13 February 2015). \"Using Toy-talk Technology, New Hello Barbie Will Have Real Conversations With Kids\". Fast Company. Archived from the original on 15 March 2015. Retrieved 18 March 2015.\\n Oren Jacob, the co-founder and CEO of ToyTalk interviewed on the TV show Triangulation on the TWiT.tv network\\n \"Artificial intelligence script tool\". Archived from the original on 12 December 2021. Retrieved 12 December 2021.\\n Takahashi, Dean (23 February 2015). \"Elemental\\'s smart connected toy taps IBM\\'s Watson supercomputer for its brains\". Venture Beat. Archived from the original on 20 May 2015. Retrieved 15 May 2015.\\n Epstein, Robert (October 2007). \"From Russia With Love: How I got fooled (and somewhat humiliated) by a computer\" (PDF). Scientific American: Mind. pp. 16–17. Archived (PDF) from the original on 19 October 2010. Retrieved 9 December 2007. Psychologist Robert Epstein reports how he was initially fooled by a chatterbot posing as an attractive girl in a personal ad he answered on a dating website. In the ad, the girl portrayed herself as being in Southern California and then soon revealed, in poor English, that she was actually in Russia. He became suspicious after a couple of months of email exchanges, sent her an email test of gibberish, and she still replied in general terms. The dating website is not named.\\n Bird, Jordan J.; Ekart, Aniko; Faria, Diego R. (June 2018). Learning from Interaction: An Intelligent Networked-based Human-bot and Bot-bot Chatbot System in: Advances in Computational Intelligence Systems (1st ed.). Nottingham, UK: Springer. pp. 179–190. doi:10.1007/978-3-319-97982-3_15. ISBN 978-3-319-97982-3. S2CID 52069140.\\n Temming, Maria (20 November 2018). \"How Twitter bots get people to spread fake news\". Science News. Archived from the original on 27 November 2018. Retrieved 20 November 2018.\\n Epp, Len (11 May 2016). \"Five Potential Malicious Uses For Chatbots\". Archived from the original on 24 February 2023. Retrieved 24 February 2023.\\n Marous, Jim (14 March 2018). \"Meet 11 of the Most Interesting Chatbots in Banking\". The Financial Brand. Archived from the original on 1 April 2019. Retrieved 1 April 2019.\\n Grudin, Jonathan; Jacques, Richard (2019), \"Chatbots, Humbots, and the Quest for Artificial General Intelligence\", Proceedings of the 2019 CHI Conference on Human Factors in Computing Systems – CHI \\'19, ACM CHI 2020, pp. 209–219, doi:10.1145/3290605.3300439, ISBN 978-1-4503-5970-2, S2CID 140274744\\n \"How talking machines are taking call center jobs\". BBC News. 23 August 2018. Archived from the original on 1 April 2019. Retrieved 1 April 2019.\\n \"How chatbots are killing jobs (and creating new ones)\". 18 June 2017. Archived from the original on 1 April 2019. Retrieved 1 April 2019.\\nFurther reading\\nSearle, John (1980), \"Minds, Brains and Programs\", Behavioral and Brain Sciences, 3 (3): 417–457, doi:10.1017/S0140525X00005756, S2CID 55303721\\nShevat, Amir (2017). Designing bots: Creating conversational experiences (First ed.). Sebastopol, CA: O\\'Reilly Media. ISBN 978-1-4919-7482-7. OCLC 962125282.\\nExternal links\\n Media related to Chatbots at Wikimedia Commons\\n Conversational bots at Wikibooks\\nvte\\nNatural language processing\\nPortal:\\nicon Language\\nAuthority control: National Edit this at Wikidata\\t\\nGermanyCzech Republic\\nCategories: ChatbotsInstant messagingInteractive narrativeNatural language parsing\\nThis page was last edited on 1 August 2023, at 02:00 (UTC).\\nText is available under the Creative Commons Attribution-ShareAlike License 4.0; additional terms may apply. By using this site, you agree to the Terms of Use and Privacy Policy. Wikipedia® is a registered trademark of the Wikimedia Foundation, Inc., a non-profit organization.\\nPrivacy policyAbout WikipediaDisclaimersContact WikipediaCode of ConductMobile viewDevelopersStatisticsCookie statementWikimedia FoundationPowered by MediaWiki\\nToggle limited content width'"
            ],
            "application/vnd.google.colaboratory.intrinsic+json": {
              "type": "string"
            }
          },
          "metadata": {},
          "execution_count": 12
        }
      ]
    },
    {
      "cell_type": "code",
      "source": [
        "raw_doc = raw_doc.lower()\n",
        "nltk.download('punkt')  #using the punkt tokenizer  ,   punkt is trained on twitter datasets\n",
        "nltk.download('wordnet')  #using the wordnet dictionary\n",
        "nltk.download('omw-1.4')\n",
        "sentence_tokens = nltk.sent_tokenize(raw_doc)\n",
        "word_tokens = nltk.word_tokenize(raw_doc)\n"
      ],
      "metadata": {
        "colab": {
          "base_uri": "https://localhost:8080/"
        },
        "id": "g58st1-hG7Kb",
        "outputId": "7ee97d31-33d6-46c6-bbec-33de015ca6a3"
      },
      "execution_count": 13,
      "outputs": [
        {
          "output_type": "stream",
          "name": "stderr",
          "text": [
            "[nltk_data] Downloading package punkt to /root/nltk_data...\n",
            "[nltk_data]   Unzipping tokenizers/punkt.zip.\n",
            "[nltk_data] Downloading package wordnet to /root/nltk_data...\n",
            "[nltk_data] Downloading package omw-1.4 to /root/nltk_data...\n"
          ]
        }
      ]
    },
    {
      "cell_type": "markdown",
      "source": [
        "After Tokenization"
      ],
      "metadata": {
        "id": "d-uM4nUuJpLV"
      }
    },
    {
      "cell_type": "code",
      "source": [
        "sentence_tokens[:5]"
      ],
      "metadata": {
        "colab": {
          "base_uri": "https://localhost:8080/"
        },
        "id": "PTWxdDYHJnxU",
        "outputId": "e968a0b7-f314-4f8a-ebd6-aba0433e1039"
      },
      "execution_count": 14,
      "outputs": [
        {
          "output_type": "execute_result",
          "data": {
            "text/plain": [
              "['\\nmain menu\\n\\nwikipediathe free encyclopedia\\nsearch wikipedia\\nsearch\\ncreate account\\nlog in\\n\\npersonal tools\\ncontents hide\\n(top)\\nbackground\\ndevelopment\\napplication\\ntoggle application subsection\\nmessaging apps\\nas part of company apps and websites\\nchatbot sequences\\ncompany internal platforms\\ncustomer service\\nhealthcare\\npolitics\\ntoys\\nmalicious use\\nlimitations of chatbots\\nchatbots and jobs\\nsee also\\nreferences\\nfurther reading\\nexternal links\\nchatbot\\n\\narticle\\ntalk\\nread\\nview source\\nview history\\n\\ntools\\npage semi-protected\\nfrom wikipedia, the free encyclopedia\\nfor other uses, see chatbot (disambiguation).',\n",
              " 'parts of this article (those related to everything, particularly sections after the intro) need to be updated.',\n",
              " 'the reason given is: this article is using citations from 1970 and virtually all claims about conversational capabilities are at least ten years out of date (for example the turing test was arguably made obsolete years ago by transformer models).',\n",
              " 'please help update this article to reflect recent events or newly available information.',\n",
              " \"(february 2023)\\n\\na virtual assistant chatbot\\n\\nthe 1966 eliza chatbot\\npart of a series on\\nmachine learning\\nand data mining\\nscatterplot featuring a linear support vector machine's decision boundary (dashed line)\\nparadigms\\nproblems\\nsupervised learning\\n(classification • regression)\\nclustering\\ndimensionality reduction\\nstructured prediction\\nanomaly detection\\nartificial neural network\\nautoencodercognitive computingdeep learningdeepdreammultilayer perceptronrnn lstmgruesnreservoir computingrestricted boltzmann machinegandiffusion modelsomconvolutional neural network u-nettransformer visionspiking neural networkmemtransistorelectrochemical ram (ecram)\\nreinforcement learning\\nlearning with humans\\nmodel diagnostics\\nmathematical foundations\\nmachine-learning venues\\nrelated articles\\nvte\\na chatbot (originally chatterbot[1]) is a software application that aims to mimic human conversation through text or voice interactions, typically online.\"]"
            ]
          },
          "metadata": {},
          "execution_count": 14
        }
      ]
    },
    {
      "cell_type": "code",
      "source": [
        "word_tokens[:5]"
      ],
      "metadata": {
        "colab": {
          "base_uri": "https://localhost:8080/"
        },
        "id": "WmXXwganN1PT",
        "outputId": "396fa952-4e1c-4b9a-eac5-eb7f676772fc"
      },
      "execution_count": 15,
      "outputs": [
        {
          "output_type": "execute_result",
          "data": {
            "text/plain": [
              "['main', 'menu', 'wikipediathe', 'free', 'encyclopedia']"
            ]
          },
          "metadata": {},
          "execution_count": 15
        }
      ]
    },
    {
      "cell_type": "markdown",
      "source": [
        "text processing steps"
      ],
      "metadata": {
        "id": "MqL8WuqkODCE"
      }
    },
    {
      "cell_type": "code",
      "source": [
        "lemmer = nltk.stem.WordNetLemmatizer()\n",
        "def LemTokens(tokens):\n",
        "  return [lemmer.lemmatize(token) for token in tokens]\n",
        "remove_punc_dict  = dict((ord(punct), None) for punct in string.punctuation)\n",
        "\n",
        "def LemNormalize(text):\n",
        "  return LemTokens(nltk.word_tokenize(text.lower().translate(remove_punc_dict)))\n",
        "\n"
      ],
      "metadata": {
        "id": "DAxWl5pcOHsQ"
      },
      "execution_count": 16,
      "outputs": []
    },
    {
      "cell_type": "markdown",
      "source": [
        "define Greeting functions"
      ],
      "metadata": {
        "id": "TSwtNW-KQAe1"
      }
    },
    {
      "cell_type": "code",
      "source": [
        "greet_inputs = ('hello','hi','whassup','how are you?')\n",
        "greet_responses = ('hi','hey','hey there!','There there!!')\n",
        "\n",
        "def greet(sentence):\n",
        "  for word in sentence.split():\n",
        "    if word.lower() in greet_inputs:\n",
        "      return random.choice(greet_responses)"
      ],
      "metadata": {
        "id": "ld_yVSPVQEVA"
      },
      "execution_count": 17,
      "outputs": []
    },
    {
      "cell_type": "markdown",
      "source": [
        "Response generated by the bot"
      ],
      "metadata": {
        "id": "T7iTctcwRD4q"
      }
    },
    {
      "cell_type": "code",
      "source": [
        "from sklearn.feature_extraction.text import TfidfVectorizer\n",
        "from sklearn.metrics.pairwise import cosine_similarity"
      ],
      "metadata": {
        "id": "LJj9BJqJRHTY"
      },
      "execution_count": 18,
      "outputs": []
    },
    {
      "cell_type": "code",
      "source": [
        "def response(user_response):\n",
        "  robo1_response = ''\n",
        "  Tfidvec = TfidfVectorizer(tokenizer = LemNormalize , stop_words = 'english')\n",
        "  tfidf   = Tfidvec.fit_transform(sentence_tokens)\n",
        "  vals = cosine_similarity(tfidf[-1], tfidf)\n",
        "  idx  = vals.argsort()[0][-2]\n",
        "  flat = vals.flatten()\n",
        "  flat.sort()\n",
        "  req_tfidf = flat[-2]\n",
        "  if (req_tfidf == 0):\n",
        "    robo1_response = robo1_response + \"I am sorry. unable to understand you!\"\n",
        "    return robo1_response\n",
        "  else:\n",
        "    robo1_response = robo1_response + sentence_tokens[idx]\n",
        "    return robo1_response"
      ],
      "metadata": {
        "id": "FmystzLOSTjK"
      },
      "execution_count": 19,
      "outputs": []
    },
    {
      "cell_type": "markdown",
      "source": [
        "chat flow"
      ],
      "metadata": {
        "id": "oxFlZaIuU6ma"
      }
    },
    {
      "cell_type": "code",
      "source": [
        "flag = True\n",
        "print(\"hello! i am the Retreival learning Bot. Start typing your text after greeting to talk to me. For ending convo type bye!\")\n",
        "while (flag == True):\n",
        "  user_response = input()\n",
        "  user_response = user_response.lower()\n",
        "  if (user_response != 'bye'):\n",
        "    if(user_response == 'thank you' or user_response == 'thanks'):\n",
        "      flag = False\n",
        "      print(\"Bot: You are welcome..\")\n",
        "    else:\n",
        "      if (greet(user_response) != None):\n",
        "        print('bot ', greet(user_response))\n",
        "      else:\n",
        "        sentence_tokens.append(user_response)\n",
        "        word_tokens = word_tokens  + nltk.word_tokenize(user_response)\n",
        "        final_words = list(set(word_tokens))\n",
        "        print('Bot: ',end = '')\n",
        "        print(response(user_response))\n",
        "        sentence_tokens.remove(user_response)\n",
        "\n",
        "  else:\n",
        "    flag = False\n",
        "    print('Bot : Goodbye')"
      ],
      "metadata": {
        "id": "Vtm8A_J3Ub6y",
        "colab": {
          "base_uri": "https://localhost:8080/"
        },
        "outputId": "89daceaf-4bdf-42ce-e13c-b0419f024996"
      },
      "execution_count": 21,
      "outputs": [
        {
          "output_type": "stream",
          "name": "stdout",
          "text": [
            "hello! i am the Retreival learning Bot. Start typing your text after greeting to talk to me. For ending convo type bye!\n",
            "thanks\n",
            "Bot: You are welcome..\n"
          ]
        }
      ]
    }
  ]
}